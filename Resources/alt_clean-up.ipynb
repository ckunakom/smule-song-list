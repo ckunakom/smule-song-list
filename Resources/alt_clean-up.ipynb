{
 "cells": [
  {
   "cell_type": "markdown",
   "metadata": {},
   "source": [
    "### FINAL CLEAN-UP"
   ]
  },
  {
   "cell_type": "code",
   "execution_count": null,
   "metadata": {},
   "outputs": [],
   "source": [
    "# Dependencies\n",
    "import pandas as pd\n",
    "from config import id_1, id_2"
   ]
  },
  {
   "cell_type": "code",
   "execution_count": null,
   "metadata": {},
   "outputs": [],
   "source": [
    "# create file path for id1_songs_df\n",
    "id1_song_file = 'id1_songs_df.csv'\n",
    "\n",
    "# read file with pandas\n",
    "id1_songs_df = pd.read_csv(id1_song_file, encoding='utf_8_sig')\n",
    "id1_songs_df"
   ]
  },
  {
   "cell_type": "code",
   "execution_count": null,
   "metadata": {},
   "outputs": [],
   "source": [
    "# create file path for id2_songs_df\n",
    "id2_song_file = 'id2_songs_df.csv'\n",
    "\n",
    "# read file with pandas\n",
    "id2_songs_df = pd.read_csv(id2_song_file, encoding='utf_8_sig')\n",
    "id2_songs_df"
   ]
  },
  {
   "cell_type": "code",
   "execution_count": null,
   "metadata": {},
   "outputs": [],
   "source": [
    "# Append the two dataframes\n",
    "all_songs_df = id1_songs_df.append(id2_songs_df)\n",
    "\n",
    "# Sort the df by date\n",
    "all_songs_df = all_songs_df.sort_values('Date Created')\n",
    "\n",
    "# Reset index\n",
    "all_songs_df.reset_index(inplace=True)\n",
    "\n",
    "# Delete old index\n",
    "del all_songs_df['index']"
   ]
  },
  {
   "cell_type": "code",
   "execution_count": null,
   "metadata": {},
   "outputs": [],
   "source": [
    "# Final result\n",
    "print(f'{id_1} joined {id_2} on {len(id1_songs_df)} songs!')\n",
    "print(f'{id_2} joined {id_1} on {len(id2_songs_df)} songs!')\n",
    "print(f'You guys have made {len(all_songs_df)} recordings together as of this date.')\n",
    "\n",
    "all_songs_df"
   ]
  },
  {
   "cell_type": "code",
   "execution_count": null,
   "metadata": {},
   "outputs": [],
   "source": [
    "# Save as a csv with encoding that allows foreign character\n",
    "all_songs_df.to_csv('all_songs.csv', encoding='utf_8_sig')"
   ]
  }
 ],
 "metadata": {
  "kernelspec": {
   "display_name": "Python 3",
   "language": "python",
   "name": "python3"
  },
  "language_info": {
   "codemirror_mode": {
    "name": "ipython",
    "version": 3
   },
   "file_extension": ".py",
   "mimetype": "text/x-python",
   "name": "python",
   "nbconvert_exporter": "python",
   "pygments_lexer": "ipython3",
   "version": "3.6.10"
  }
 },
 "nbformat": 4,
 "nbformat_minor": 4
}
