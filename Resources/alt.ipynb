{
 "cells": [
  {
   "cell_type": "markdown",
   "metadata": {},
   "source": [
    "## Setting up"
   ]
  },
  {
   "cell_type": "markdown",
   "metadata": {},
   "source": [
    "If you're here, it means the easy-run didn't work out... I'm sorry😣"
   ]
  },
  {
   "cell_type": "code",
   "execution_count": null,
   "metadata": {},
   "outputs": [],
   "source": [
    "# Dependencies\n",
    "import json\n",
    "import pandas as pd\n",
    "import requests\n",
    "from config import id_1, id_2"
   ]
  },
  {
   "cell_type": "code",
   "execution_count": null,
   "metadata": {},
   "outputs": [],
   "source": [
    "# List of Song, Date, URL\n",
    "songs = []\n",
    "artist = []\n",
    "date = []\n",
    "inviter = []\n",
    "song_url = []\n",
    "recording_base_url = 'https://www.smule.com'"
   ]
  },
  {
   "cell_type": "code",
   "execution_count": null,
   "metadata": {},
   "outputs": [],
   "source": [
    "# Building url\n",
    "user_1 = f'https://www.smule.com/s/profile/performance/{id_1}/sing?offset='\n",
    "user_2 = f'https://www.smule.com/s/profile/performance/{id_2}/sing?offset='\n",
    "offset = 0"
   ]
  },
  {
   "cell_type": "markdown",
   "metadata": {},
   "source": [
    "## Gather all the songs the two singers sang togehter"
   ]
  },
  {
   "cell_type": "markdown",
   "metadata": {},
   "source": [
    "### 1st Run - when id_1 is VIP"
   ]
  },
  {
   "cell_type": "code",
   "execution_count": null,
   "metadata": {},
   "outputs": [],
   "source": [
    "# Infinite loop until the list is empty (offset ran out)\n",
    "\n",
    "while True:\n",
    "    response = requests.get(f'{user_2}{offset}')\n",
    "    # Get out of the loop if request is unsuccessful\n",
    "    if response.status_code != 200:\n",
    "        print('Unsuccessful Request T^T')\n",
    "        break\n",
    "    response_json = response.json()\n",
    "    json_stuff = response_json['list']\n",
    "    \n",
    "    # If the list is empty in the json data\n",
    "    if not json_stuff:\n",
    "        break\n",
    "    \n",
    "    for x in range(0,len(json_stuff)):\n",
    "        if json_stuff[x]['performed_by'] == id_1:\n",
    "            inviter.append(json_stuff[x]['performed_by'])\n",
    "            songs.append(json_stuff[x]['title'])\n",
    "            artist.append(json_stuff[x]['artist'])\n",
    "            date.append(json_stuff[x]['created_at'])\n",
    "            recording_url = recording_base_url + json_stuff[x]['web_url']\n",
    "            song_url.append(recording_url)\n",
    "            print(f'Processing record index #{offset + x}: {offset}, #{x}')\n",
    "\n",
    "    offset = response_json['next_offset']\n",
    "    \n",
    "    if offset == -1:\n",
    "        print('No more records to be processed')\n",
    "        break"
   ]
  },
  {
   "cell_type": "code",
   "execution_count": null,
   "metadata": {},
   "outputs": [],
   "source": [
    "# Let's clean up the date column\n",
    "date_created = []\n",
    "\n",
    "for d in date:\n",
    "    date_only = d.split('T')[0]\n",
    "    date_created.append(date_only)\n",
    "\n",
    "# Show the list of songs in dataframe for id_2\n",
    "id2_songs_df = pd.DataFrame({'Date Created': date_created,\n",
    "                             'Title':songs,\n",
    "                             'Artist': artist,\n",
    "                             'Invite Spawner': inviter,\n",
    "                             'URL': song_url})\n",
    "\n",
    "\n",
    "# Save first result to csv\n",
    "id2_songs_df.to_csv('id2_songs_df.csv', encoding='utf_8_sig', index=False)\n",
    "id2_songs_df"
   ]
  },
  {
   "cell_type": "code",
   "execution_count": null,
   "metadata": {},
   "outputs": [],
   "source": [
    "# How many songs did id_2 join id_1 in total?\n",
    "join_id1 = len(songs)\n",
    "print(f'{id_2} joined {id_1} on {join_id1} songs!')"
   ]
  },
  {
   "cell_type": "markdown",
   "metadata": {},
   "source": [
    "### STOP HERE after 1st Run! Restart & Clear Output, skip 1st run and do 2nd Run below"
   ]
  },
  {
   "cell_type": "markdown",
   "metadata": {},
   "source": [
    "### 2nd Run - when id_2 is VIP"
   ]
  },
  {
   "cell_type": "code",
   "execution_count": null,
   "metadata": {},
   "outputs": [],
   "source": [
    "# Loop for id_1 dataframe\n",
    "while True:\n",
    "    response = requests.get(f'{user_1}{offset}')\n",
    "    # Get out of the loop if request is unsuccessful\n",
    "    if response.status_code != 200:\n",
    "        print('Unsuccessful Request T^T')\n",
    "        break\n",
    "    response_json = response.json()\n",
    "    json_stuff = response_json['list']\n",
    "    \n",
    "    # If the list is empty in the json data\n",
    "    if not json_stuff:\n",
    "        break\n",
    "    \n",
    "    for x in range(0,len(json_stuff)):\n",
    "        if json_stuff[x]['performed_by'] == id_2:\n",
    "            inviter.append(json_stuff[x]['performed_by'])\n",
    "            songs.append(json_stuff[x]['title'])\n",
    "            artist.append(json_stuff[x]['artist'])\n",
    "            date.append(json_stuff[x]['created_at'])\n",
    "            recording_url = recording_base_url + json_stuff[x]['web_url']\n",
    "            song_url.append(recording_url)\n",
    "            print(f'Processing record index #{offset + x}: {offset}, #{x}')\n",
    "\n",
    "    offset = response_json['next_offset']\n",
    "    \n",
    "    if offset == -1:\n",
    "        print('No more records to be processed')\n",
    "        break"
   ]
  },
  {
   "cell_type": "code",
   "execution_count": null,
   "metadata": {},
   "outputs": [],
   "source": [
    "# Clean up the date column\n",
    "date_created = []\n",
    "\n",
    "for d in date:\n",
    "    date_only = d.split('T')[0]\n",
    "    date_created.append(date_only)\n",
    "\n",
    "# Show the list of songs in dataframe for id1\n",
    "id1_songs_df = pd.DataFrame({'Date Created': date_created,\n",
    "                             'Title':songs,\n",
    "                             'Artist': artist,\n",
    "                             'Invite Spawner': inviter,\n",
    "                             'URL': song_url})\n",
    "\n",
    "\n",
    "# Save second result to csv (just in case)\n",
    "id1_songs_df.to_csv('id1_songs_df.csv', encoding='utf_8_sig', index=False)\n",
    "id1_songs_df"
   ]
  },
  {
   "cell_type": "code",
   "execution_count": null,
   "metadata": {},
   "outputs": [],
   "source": [
    "# How many songs did id_1 join id_2 in total?\n",
    "join_id2 = len(songs)\n",
    "print(f'{id_1} joined {id_2} on {join_id2} songs!')"
   ]
  },
  {
   "cell_type": "markdown",
   "metadata": {},
   "source": [
    "### Go run final clean-up code"
   ]
  }
 ],
 "metadata": {
  "kernelspec": {
   "display_name": "Python 3",
   "language": "python",
   "name": "python3"
  },
  "language_info": {
   "codemirror_mode": {
    "name": "ipython",
    "version": 3
   },
   "file_extension": ".py",
   "mimetype": "text/x-python",
   "name": "python",
   "nbconvert_exporter": "python",
   "pygments_lexer": "ipython3",
   "version": "3.6.10"
  }
 },
 "nbformat": 4,
 "nbformat_minor": 4
}
