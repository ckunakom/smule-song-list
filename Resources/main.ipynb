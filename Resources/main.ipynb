{
 "cells": [
  {
   "cell_type": "markdown",
   "metadata": {},
   "source": [
    "### Setting up"
   ]
  },
  {
   "cell_type": "markdown",
   "metadata": {},
   "source": [
    "BE WARNED! You will not be able to access smule web for at least half an hour when you run this!"
   ]
  },
  {
   "cell_type": "code",
   "execution_count": null,
   "metadata": {},
   "outputs": [],
   "source": [
    "# Dependencies\n",
    "import json\n",
    "import pandas as pd\n",
    "import requests\n",
    "from config import id_1, id_2"
   ]
  },
  {
   "cell_type": "code",
   "execution_count": null,
   "metadata": {},
   "outputs": [],
   "source": [
    "# List of Song, Date, URL, inviter\n",
    "songs = []\n",
    "artist = []\n",
    "date = []\n",
    "inviter = []\n",
    "song_url = []\n",
    "recording_base_url = 'https://www.smule.com'"
   ]
  },
  {
   "cell_type": "code",
   "execution_count": null,
   "metadata": {},
   "outputs": [],
   "source": [
    "# Building url\n",
    "user_1 = f'https://www.smule.com/s/profile/performance/{id_1}/sing?offset='\n",
    "user_2 = f'https://www.smule.com/s/profile/performance/{id_2}/sing?offset='\n",
    "offset = 0"
   ]
  },
  {
   "cell_type": "markdown",
   "metadata": {},
   "source": [
    "### Gather all the songs the two singers sang togehter"
   ]
  },
  {
   "cell_type": "markdown",
   "metadata": {},
   "source": [
    "id_1 is the VIP"
   ]
  },
  {
   "cell_type": "code",
   "execution_count": null,
   "metadata": {},
   "outputs": [],
   "source": [
    "# Infinite loop until the list is empty (offset ran out)\n",
    "\n",
    "while True:\n",
    "    response = requests.get(f'{user_2}{offset}').json()\n",
    "    json_stuff = response['list']\n",
    "    if not json_stuff:\n",
    "        break\n",
    "    \n",
    "    try:\n",
    "        for x in range(0,len(json_stuff)):\n",
    "            if json_stuff[x]['performed_by'] == id_1:\n",
    "                inviter.append(json_stuff[x]['performed_by'])\n",
    "                songs.append(json_stuff[x]['title'])\n",
    "                artist.append(json_stuff[x]['artist'])\n",
    "                date.append(json_stuff[x]['created_at'])\n",
    "                recording_url = recording_base_url + json_stuff[x]['web_url']\n",
    "                song_url.append(recording_url)\n",
    "\n",
    "        offset += 25\n",
    "    \n",
    "    except:\n",
    "        print('No data to return... Next!')\n",
    "        pass"
   ]
  },
  {
   "cell_type": "code",
   "execution_count": null,
   "metadata": {},
   "outputs": [],
   "source": [
    "# How many songs did id_2 join id_1 in total?\n",
    "join_id1 = len(songs)\n",
    "join_id1"
   ]
  },
  {
   "cell_type": "markdown",
   "metadata": {},
   "source": [
    "id_2 is the VIP"
   ]
  },
  {
   "cell_type": "code",
   "execution_count": null,
   "metadata": {},
   "outputs": [],
   "source": [
    "# Run another infinite loop again - You might have to wait 30mins b/c you'll get 418 code :P\n",
    "\n",
    "while True:\n",
    "    response = requests.get(f'{user_1}{offset}').json()\n",
    "    json_stuff = response['list']\n",
    "    if not json_stuff:\n",
    "        break\n",
    "    \n",
    "    try:\n",
    "        for x in range(0,len(json_stuff)):\n",
    "            if json_stuff[x]['performed_by'] == id_2:\n",
    "                inviter.append(json_stuff[x]['performed_by'])\n",
    "                songs.append(json_stuff[x]['title'])\n",
    "                artist.append(json_stuff[x]['artist'])\n",
    "                date.append(json_stuff[x]['created_at'])\n",
    "                recording_url = recording_base_url + json_stuff[x]['web_url']\n",
    "                song_url.append(recording_url)\n",
    "\n",
    "        offset += 25\n",
    "        \n",
    "    except:\n",
    "        print('No data to return... Next!')\n",
    "        pass"
   ]
  },
  {
   "cell_type": "code",
   "execution_count": null,
   "metadata": {},
   "outputs": [],
   "source": [
    "# How many songs did id_1 join id_2 in total?\n",
    "join_id2 = len(songs) - join_id1\n",
    "join_id2"
   ]
  },
  {
   "cell_type": "code",
   "execution_count": null,
   "metadata": {},
   "outputs": [],
   "source": [
    "# Let's clean up the date column\n",
    "date_created = []\n",
    "\n",
    "for d in date:\n",
    "    date_only = d.split('T')[0]\n",
    "    date_created.append(date_only)"
   ]
  },
  {
   "cell_type": "code",
   "execution_count": null,
   "metadata": {},
   "outputs": [],
   "source": [
    "# Show the list of songs in dataframe\n",
    "all_songs_df = pd.DataFrame({'Date Created': date_created,\n",
    "                             'Title':songs,\n",
    "                             'Artist': artist,\n",
    "                             'Invite Spawner': inviter,\n",
    "                             'URL': song_url})\n",
    "\n",
    "# Sort the df by date\n",
    "all_songs_df = all_songs_df.sort_values('Date Created')\n",
    "\n",
    "# Reset index\n",
    "all_songs_df.reset_index(inplace=True)\n",
    "\n",
    "# Delete old index\n",
    "del all_songs_df['index']"
   ]
  },
  {
   "cell_type": "markdown",
   "metadata": {},
   "source": [
    "### Final Product 🤩"
   ]
  },
  {
   "cell_type": "code",
   "execution_count": null,
   "metadata": {},
   "outputs": [],
   "source": [
    "# Ta-da!\n",
    "print(f'{id_1} joined {id_2} on {join_id2} songs!')\n",
    "print(f'{id_2} joined {id_1} on {join_id1} songs!')\n",
    "print(f'You guys have made {len(songs)} recordings together as of this date.')\n",
    "\n",
    "all_songs_df"
   ]
  },
  {
   "cell_type": "code",
   "execution_count": null,
   "metadata": {},
   "outputs": [],
   "source": [
    "# Save as a csv with encoding that allows foreign character\n",
    "all_songs_df.to_csv('all_songs.csv', encoding='utf_8_sig')"
   ]
  }
 ],
 "metadata": {
  "kernelspec": {
   "display_name": "Python 3",
   "language": "python",
   "name": "python3"
  },
  "language_info": {
   "codemirror_mode": {
    "name": "ipython",
    "version": 3
   },
   "file_extension": ".py",
   "mimetype": "text/x-python",
   "name": "python",
   "nbconvert_exporter": "python",
   "pygments_lexer": "ipython3",
   "version": "3.7.6"
  }
 },
 "nbformat": 4,
 "nbformat_minor": 4
}
